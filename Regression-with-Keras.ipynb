{
 "cells": [
  {
   "cell_type": "markdown",
   "metadata": {},
   "source": [
    "<a href=\"https://cognitiveclass.ai\"><img src=\"https://cf-courses-data.s3.us.cloud-object-storage.appdomain.cloud/IBMDeveloperSkillsNetwork-DL0101EN-SkillsNetwork/images/IDSN-logo.png\" width=\"400\"> </a>\n",
    "\n",
    "# Regression Models with Keras\n",
    "\n",
    "Estimated time needed: **45** mins\n"
   ]
  },
  {
   "cell_type": "markdown",
   "metadata": {},
   "source": [
    "## Introduction\n"
   ]
  },
  {
   "cell_type": "markdown",
   "metadata": {},
   "source": [
    "As we discussed in the videos, despite the popularity of more powerful libraries such as PyToch and TensorFlow, they are not easy to use and have a steep learning curve. So, for people who are just starting to learn deep learning, there is no better library to use other than the Keras library. \n",
    "\n",
    "Keras is a high-level API for building deep learning models. It has gained favor for its ease of use and syntactic simplicity facilitating fast development. As you will see in this lab and the other labs in this course, building a very complex deep learning network can be achieved with Keras with only few lines of code. You will appreciate Keras even more, once you learn how to build deep models using PyTorch and TensorFlow in the other courses.\n",
    "\n",
    "So, in this lab, you will learn how to use the Keras library to build a regression model.\n"
   ]
  },
  {
   "cell_type": "markdown",
   "metadata": {},
   "source": [
    "## Objectives for this Notebook    \n",
    "* How to use the Keras library to build a regression model\n",
    "* Download and clean the data set\n",
    "* Build a neural network\n",
    "* Train and test the network     \n",
    "\n"
   ]
  },
  {
   "cell_type": "markdown",
   "metadata": {},
   "source": [
    "<h2>Table of Contents</h2>\n",
    "\n",
    "\n",
    "<div class=\"alert alert-block alert-info\" style=\"margin-top: 20px\">\n",
    "\n",
    "<font size = 4>\n",
    "1. <a href=\"#Download-and-Clean-the-Data-Set\">Download and Clean the Data Set</a><br>\n",
    "2. <a href=\"#Import-Keras-Packages\">Import Keras Packages</a><br>\n",
    "3. <a href=\"#Build-a-Neural-Network\">Build a Neural Network</a><br>\n",
    "4. <a href=\"#Train-and-Test-the-Network\">Train and Test the Network</a><br>  \n",
    "\n",
    "</font>\n",
    "</div>\n"
   ]
  },
  {
   "cell_type": "markdown",
   "metadata": {},
   "source": [
    "Let's start by importing the <em>pandas</em> and the Numpy libraries.\n"
   ]
  },
  {
   "cell_type": "code",
   "execution_count": 1,
   "metadata": {},
   "outputs": [
    {
     "name": "stdout",
     "output_type": "stream",
     "text": [
      "Collecting numpy==2.0.2\n",
      "  Downloading numpy-2.0.2-cp312-cp312-manylinux_2_17_x86_64.manylinux2014_x86_64.whl.metadata (60 kB)\n",
      "Downloading numpy-2.0.2-cp312-cp312-manylinux_2_17_x86_64.manylinux2014_x86_64.whl (19.2 MB)\n",
      "\u001b[2K   \u001b[90m━━━━━━━━━━━━━━━━━━━━━━━━━━━━━━━━━━━━━━━━\u001b[0m \u001b[32m19.2/19.2 MB\u001b[0m \u001b[31m129.5 MB/s\u001b[0m eta \u001b[36m0:00:00\u001b[0m\n",
      "Installing collected packages: numpy\n",
      "Successfully installed numpy-2.0.2\n",
      "Collecting pandas==2.2.2\n",
      "  Downloading pandas-2.2.2-cp312-cp312-manylinux_2_17_x86_64.manylinux2014_x86_64.whl.metadata (19 kB)\n",
      "Requirement already satisfied: numpy>=1.26.0 in /opt/conda/lib/python3.12/site-packages (from pandas==2.2.2) (2.0.2)\n",
      "Requirement already satisfied: python-dateutil>=2.8.2 in /opt/conda/lib/python3.12/site-packages (from pandas==2.2.2) (2.9.0.post0)\n",
      "Requirement already satisfied: pytz>=2020.1 in /opt/conda/lib/python3.12/site-packages (from pandas==2.2.2) (2024.2)\n",
      "Collecting tzdata>=2022.7 (from pandas==2.2.2)\n",
      "  Downloading tzdata-2025.2-py2.py3-none-any.whl.metadata (1.4 kB)\n",
      "Requirement already satisfied: six>=1.5 in /opt/conda/lib/python3.12/site-packages (from python-dateutil>=2.8.2->pandas==2.2.2) (1.17.0)\n",
      "Downloading pandas-2.2.2-cp312-cp312-manylinux_2_17_x86_64.manylinux2014_x86_64.whl (12.7 MB)\n",
      "\u001b[2K   \u001b[90m━━━━━━━━━━━━━━━━━━━━━━━━━━━━━━━━━━━━━━━━\u001b[0m \u001b[32m12.7/12.7 MB\u001b[0m \u001b[31m121.1 MB/s\u001b[0m eta \u001b[36m0:00:00\u001b[0m\n",
      "Downloading tzdata-2025.2-py2.py3-none-any.whl (347 kB)\n",
      "Installing collected packages: tzdata, pandas\n",
      "Successfully installed pandas-2.2.2 tzdata-2025.2\n",
      "Collecting tensorflow_cpu==2.18.0\n",
      "  Downloading tensorflow_cpu-2.18.0-cp312-cp312-manylinux_2_17_x86_64.manylinux2014_x86_64.whl.metadata (4.1 kB)\n",
      "Collecting absl-py>=1.0.0 (from tensorflow_cpu==2.18.0)\n",
      "  Downloading absl_py-2.3.1-py3-none-any.whl.metadata (3.3 kB)\n",
      "Collecting astunparse>=1.6.0 (from tensorflow_cpu==2.18.0)\n",
      "  Downloading astunparse-1.6.3-py2.py3-none-any.whl.metadata (4.4 kB)\n",
      "Collecting flatbuffers>=24.3.25 (from tensorflow_cpu==2.18.0)\n",
      "  Downloading flatbuffers-25.2.10-py2.py3-none-any.whl.metadata (875 bytes)\n",
      "Collecting gast!=0.5.0,!=0.5.1,!=0.5.2,>=0.2.1 (from tensorflow_cpu==2.18.0)\n",
      "  Downloading gast-0.6.0-py3-none-any.whl.metadata (1.3 kB)\n",
      "Collecting google-pasta>=0.1.1 (from tensorflow_cpu==2.18.0)\n",
      "  Downloading google_pasta-0.2.0-py3-none-any.whl.metadata (814 bytes)\n",
      "Collecting libclang>=13.0.0 (from tensorflow_cpu==2.18.0)\n",
      "  Downloading libclang-18.1.1-py2.py3-none-manylinux2010_x86_64.whl.metadata (5.2 kB)\n",
      "Collecting opt-einsum>=2.3.2 (from tensorflow_cpu==2.18.0)\n",
      "  Downloading opt_einsum-3.4.0-py3-none-any.whl.metadata (6.3 kB)\n",
      "Requirement already satisfied: packaging in /opt/conda/lib/python3.12/site-packages (from tensorflow_cpu==2.18.0) (24.2)\n",
      "Collecting protobuf!=4.21.0,!=4.21.1,!=4.21.2,!=4.21.3,!=4.21.4,!=4.21.5,<6.0.0dev,>=3.20.3 (from tensorflow_cpu==2.18.0)\n",
      "  Downloading protobuf-5.29.5-cp38-abi3-manylinux2014_x86_64.whl.metadata (592 bytes)\n",
      "Requirement already satisfied: requests<3,>=2.21.0 in /opt/conda/lib/python3.12/site-packages (from tensorflow_cpu==2.18.0) (2.32.3)\n",
      "Requirement already satisfied: setuptools in /opt/conda/lib/python3.12/site-packages (from tensorflow_cpu==2.18.0) (75.8.0)\n",
      "Requirement already satisfied: six>=1.12.0 in /opt/conda/lib/python3.12/site-packages (from tensorflow_cpu==2.18.0) (1.17.0)\n",
      "Collecting termcolor>=1.1.0 (from tensorflow_cpu==2.18.0)\n",
      "  Downloading termcolor-3.1.0-py3-none-any.whl.metadata (6.4 kB)\n",
      "Requirement already satisfied: typing-extensions>=3.6.6 in /opt/conda/lib/python3.12/site-packages (from tensorflow_cpu==2.18.0) (4.12.2)\n",
      "Collecting wrapt>=1.11.0 (from tensorflow_cpu==2.18.0)\n",
      "  Downloading wrapt-1.17.2-cp312-cp312-manylinux_2_5_x86_64.manylinux1_x86_64.manylinux_2_17_x86_64.manylinux2014_x86_64.whl.metadata (6.4 kB)\n",
      "Collecting grpcio<2.0,>=1.24.3 (from tensorflow_cpu==2.18.0)\n",
      "  Downloading grpcio-1.74.0-cp312-cp312-manylinux_2_17_x86_64.manylinux2014_x86_64.whl.metadata (3.8 kB)\n",
      "Collecting tensorboard<2.19,>=2.18 (from tensorflow_cpu==2.18.0)\n",
      "  Downloading tensorboard-2.18.0-py3-none-any.whl.metadata (1.6 kB)\n",
      "Collecting keras>=3.5.0 (from tensorflow_cpu==2.18.0)\n",
      "  Downloading keras-3.11.1-py3-none-any.whl.metadata (5.9 kB)\n",
      "Requirement already satisfied: numpy<2.1.0,>=1.26.0 in /opt/conda/lib/python3.12/site-packages (from tensorflow_cpu==2.18.0) (2.0.2)\n",
      "Collecting h5py>=3.11.0 (from tensorflow_cpu==2.18.0)\n",
      "  Downloading h5py-3.14.0-cp312-cp312-manylinux_2_17_x86_64.manylinux2014_x86_64.whl.metadata (2.7 kB)\n",
      "Collecting ml-dtypes<0.5.0,>=0.4.0 (from tensorflow_cpu==2.18.0)\n",
      "  Downloading ml_dtypes-0.4.1-cp312-cp312-manylinux_2_17_x86_64.manylinux2014_x86_64.whl.metadata (20 kB)\n",
      "Requirement already satisfied: wheel<1.0,>=0.23.0 in /opt/conda/lib/python3.12/site-packages (from astunparse>=1.6.0->tensorflow_cpu==2.18.0) (0.45.1)\n",
      "Collecting rich (from keras>=3.5.0->tensorflow_cpu==2.18.0)\n",
      "  Downloading rich-14.1.0-py3-none-any.whl.metadata (18 kB)\n",
      "Collecting namex (from keras>=3.5.0->tensorflow_cpu==2.18.0)\n",
      "  Downloading namex-0.1.0-py3-none-any.whl.metadata (322 bytes)\n",
      "Collecting optree (from keras>=3.5.0->tensorflow_cpu==2.18.0)\n",
      "  Downloading optree-0.17.0-cp312-cp312-manylinux_2_27_x86_64.manylinux_2_28_x86_64.whl.metadata (33 kB)\n",
      "Requirement already satisfied: charset_normalizer<4,>=2 in /opt/conda/lib/python3.12/site-packages (from requests<3,>=2.21.0->tensorflow_cpu==2.18.0) (3.4.1)\n",
      "Requirement already satisfied: idna<4,>=2.5 in /opt/conda/lib/python3.12/site-packages (from requests<3,>=2.21.0->tensorflow_cpu==2.18.0) (3.10)\n",
      "Requirement already satisfied: urllib3<3,>=1.21.1 in /opt/conda/lib/python3.12/site-packages (from requests<3,>=2.21.0->tensorflow_cpu==2.18.0) (2.3.0)\n",
      "Requirement already satisfied: certifi>=2017.4.17 in /opt/conda/lib/python3.12/site-packages (from requests<3,>=2.21.0->tensorflow_cpu==2.18.0) (2024.12.14)\n",
      "Collecting markdown>=2.6.8 (from tensorboard<2.19,>=2.18->tensorflow_cpu==2.18.0)\n",
      "  Downloading markdown-3.8.2-py3-none-any.whl.metadata (5.1 kB)\n",
      "Collecting tensorboard-data-server<0.8.0,>=0.7.0 (from tensorboard<2.19,>=2.18->tensorflow_cpu==2.18.0)\n",
      "  Downloading tensorboard_data_server-0.7.2-py3-none-manylinux_2_31_x86_64.whl.metadata (1.1 kB)\n",
      "Collecting werkzeug>=1.0.1 (from tensorboard<2.19,>=2.18->tensorflow_cpu==2.18.0)\n",
      "  Downloading werkzeug-3.1.3-py3-none-any.whl.metadata (3.7 kB)\n",
      "Requirement already satisfied: MarkupSafe>=2.1.1 in /opt/conda/lib/python3.12/site-packages (from werkzeug>=1.0.1->tensorboard<2.19,>=2.18->tensorflow_cpu==2.18.0) (3.0.2)\n",
      "Collecting markdown-it-py>=2.2.0 (from rich->keras>=3.5.0->tensorflow_cpu==2.18.0)\n",
      "  Downloading markdown_it_py-3.0.0-py3-none-any.whl.metadata (6.9 kB)\n",
      "Requirement already satisfied: pygments<3.0.0,>=2.13.0 in /opt/conda/lib/python3.12/site-packages (from rich->keras>=3.5.0->tensorflow_cpu==2.18.0) (2.19.1)\n",
      "Collecting mdurl~=0.1 (from markdown-it-py>=2.2.0->rich->keras>=3.5.0->tensorflow_cpu==2.18.0)\n",
      "  Downloading mdurl-0.1.2-py3-none-any.whl.metadata (1.6 kB)\n",
      "Downloading tensorflow_cpu-2.18.0-cp312-cp312-manylinux_2_17_x86_64.manylinux2014_x86_64.whl (230.3 MB)\n",
      "\u001b[2K   \u001b[90m━━━━━━━━━━━━━━━━━━━━━━━━━━━━━━━━━━━━━━━━\u001b[0m \u001b[32m230.3/230.3 MB\u001b[0m \u001b[31m31.8 MB/s\u001b[0m eta \u001b[36m0:00:00\u001b[0m00:01\u001b[0m00:01\u001b[0m\n",
      "\u001b[?25hDownloading absl_py-2.3.1-py3-none-any.whl (135 kB)\n",
      "Downloading astunparse-1.6.3-py2.py3-none-any.whl (12 kB)\n",
      "Downloading flatbuffers-25.2.10-py2.py3-none-any.whl (30 kB)\n",
      "Downloading gast-0.6.0-py3-none-any.whl (21 kB)\n",
      "Downloading google_pasta-0.2.0-py3-none-any.whl (57 kB)\n",
      "Downloading grpcio-1.74.0-cp312-cp312-manylinux_2_17_x86_64.manylinux2014_x86_64.whl (6.2 MB)\n",
      "\u001b[2K   \u001b[90m━━━━━━━━━━━━━━━━━━━━━━━━━━━━━━━━━━━━━━━━\u001b[0m \u001b[32m6.2/6.2 MB\u001b[0m \u001b[31m86.2 MB/s\u001b[0m eta \u001b[36m0:00:00\u001b[0m\n",
      "\u001b[?25hDownloading h5py-3.14.0-cp312-cp312-manylinux_2_17_x86_64.manylinux2014_x86_64.whl (4.9 MB)\n",
      "\u001b[2K   \u001b[90m━━━━━━━━━━━━━━━━━━━━━━━━━━━━━━━━━━━━━━━━\u001b[0m \u001b[32m4.9/4.9 MB\u001b[0m \u001b[31m50.8 MB/s\u001b[0m eta \u001b[36m0:00:00\u001b[0m\n",
      "\u001b[?25hDownloading keras-3.11.1-py3-none-any.whl (1.4 MB)\n",
      "\u001b[2K   \u001b[90m━━━━━━━━━━━━━━━━━━━━━━━━━━━━━━━━━━━━━━━━\u001b[0m \u001b[32m1.4/1.4 MB\u001b[0m \u001b[31m50.9 MB/s\u001b[0m eta \u001b[36m0:00:00\u001b[0m\n",
      "\u001b[?25hDownloading libclang-18.1.1-py2.py3-none-manylinux2010_x86_64.whl (24.5 MB)\n",
      "\u001b[2K   \u001b[90m━━━━━━━━━━━━━━━━━━━━━━━━━━━━━━━━━━━━━━━━\u001b[0m \u001b[32m24.5/24.5 MB\u001b[0m \u001b[31m48.4 MB/s\u001b[0m eta \u001b[36m0:00:00\u001b[0m:00:01\u001b[0m\n",
      "\u001b[?25hDownloading ml_dtypes-0.4.1-cp312-cp312-manylinux_2_17_x86_64.manylinux2014_x86_64.whl (2.2 MB)\n",
      "\u001b[2K   \u001b[90m━━━━━━━━━━━━━━━━━━━━━━━━━━━━━━━━━━━━━━━━\u001b[0m \u001b[32m2.2/2.2 MB\u001b[0m \u001b[31m58.1 MB/s\u001b[0m eta \u001b[36m0:00:00\u001b[0m\n",
      "\u001b[?25hDownloading opt_einsum-3.4.0-py3-none-any.whl (71 kB)\n",
      "Downloading protobuf-5.29.5-cp38-abi3-manylinux2014_x86_64.whl (319 kB)\n",
      "Downloading tensorboard-2.18.0-py3-none-any.whl (5.5 MB)\n",
      "\u001b[2K   \u001b[90m━━━━━━━━━━━━━━━━━━━━━━━━━━━━━━━━━━━━━━━━\u001b[0m \u001b[32m5.5/5.5 MB\u001b[0m \u001b[31m55.9 MB/s\u001b[0m eta \u001b[36m0:00:00\u001b[0m\n",
      "\u001b[?25hDownloading termcolor-3.1.0-py3-none-any.whl (7.7 kB)\n",
      "Downloading wrapt-1.17.2-cp312-cp312-manylinux_2_5_x86_64.manylinux1_x86_64.manylinux_2_17_x86_64.manylinux2014_x86_64.whl (89 kB)\n",
      "Downloading markdown-3.8.2-py3-none-any.whl (106 kB)\n",
      "Downloading tensorboard_data_server-0.7.2-py3-none-manylinux_2_31_x86_64.whl (6.6 MB)\n",
      "\u001b[2K   \u001b[90m━━━━━━━━━━━━━━━━━━━━━━━━━━━━━━━━━━━━━━━━\u001b[0m \u001b[32m6.6/6.6 MB\u001b[0m \u001b[31m57.7 MB/s\u001b[0m eta \u001b[36m0:00:00\u001b[0m\n",
      "\u001b[?25hDownloading werkzeug-3.1.3-py3-none-any.whl (224 kB)\n",
      "Downloading namex-0.1.0-py3-none-any.whl (5.9 kB)\n",
      "Downloading optree-0.17.0-cp312-cp312-manylinux_2_27_x86_64.manylinux_2_28_x86_64.whl (408 kB)\n",
      "Downloading rich-14.1.0-py3-none-any.whl (243 kB)\n",
      "Downloading markdown_it_py-3.0.0-py3-none-any.whl (87 kB)\n",
      "Downloading mdurl-0.1.2-py3-none-any.whl (10.0 kB)\n",
      "Installing collected packages: namex, libclang, flatbuffers, wrapt, werkzeug, termcolor, tensorboard-data-server, protobuf, optree, opt-einsum, ml-dtypes, mdurl, markdown, h5py, grpcio, google-pasta, gast, astunparse, absl-py, tensorboard, markdown-it-py, rich, keras, tensorflow_cpu\n",
      "Successfully installed absl-py-2.3.1 astunparse-1.6.3 flatbuffers-25.2.10 gast-0.6.0 google-pasta-0.2.0 grpcio-1.74.0 h5py-3.14.0 keras-3.11.1 libclang-18.1.1 markdown-3.8.2 markdown-it-py-3.0.0 mdurl-0.1.2 ml-dtypes-0.4.1 namex-0.1.0 opt-einsum-3.4.0 optree-0.17.0 protobuf-5.29.5 rich-14.1.0 tensorboard-2.18.0 tensorboard-data-server-0.7.2 tensorflow_cpu-2.18.0 termcolor-3.1.0 werkzeug-3.1.3 wrapt-1.17.2\n"
     ]
    }
   ],
   "source": [
    "# All Libraries required for this lab are listed below. \n",
    "\n",
    "!pip install numpy==2.0.2\n",
    "!pip install pandas==2.2.2\n",
    "!pip install tensorflow_cpu==2.18.0\n"
   ]
  },
  {
   "cell_type": "markdown",
   "metadata": {},
   "source": [
    "#### To use Keras, you will also need to install a backend framework – such as TensorFlow.\n",
    "\n",
    "If you install TensorFlow 2.16 or above, it will install Keras by default.\n",
    "\n",
    "We are using the CPU version of tensorflow since we are dealing with smaller datasets. \n",
    "You may install the GPU version of tensorflow on your machine to accelarate the processing of larger datasets\n"
   ]
  },
  {
   "cell_type": "markdown",
   "metadata": {},
   "source": [
    "#### Suppress the tensorflow warning messages\n",
    "We use the following code to  suppress the warning messages due to use of CPU architechture for tensoflow.\n",
    "\n",
    "You may want to **comment out** these lines if you are using the GPU architechture\n"
   ]
  },
  {
   "cell_type": "code",
   "execution_count": 2,
   "metadata": {},
   "outputs": [],
   "source": [
    "import os\n",
    "os.environ['TF_ENABLE_ONEDNN_OPTS'] = '0'\n",
    "os.environ['TF_CPP_MIN_LOG_LEVEL'] = '2'"
   ]
  },
  {
   "cell_type": "code",
   "execution_count": 3,
   "metadata": {},
   "outputs": [],
   "source": [
    "import pandas as pd\n",
    "import numpy as np\n",
    "import keras\n",
    "\n",
    "import warnings\n",
    "warnings.simplefilter('ignore', FutureWarning)"
   ]
  },
  {
   "cell_type": "markdown",
   "metadata": {},
   "source": [
    "<strong>The dataset is about the compressive strength of different samples of concrete based on the volumes of the different ingredients that were used to make them. Ingredients include:</strong>\n",
    "\n",
    "* Cement\n",
    "* Blast furnace slag\n",
    "* Fly ash\n",
    "* Water\n",
    "* Superplasticizer\n",
    "* Coarse aggregate\n",
    "* Fine aggregate\n"
   ]
  },
  {
   "cell_type": "markdown",
   "metadata": {},
   "source": [
    "## Download and Clean the Data Set\n"
   ]
  },
  {
   "cell_type": "markdown",
   "metadata": {},
   "source": [
    "Let's download the data and read it into a <em>pandas</em> dataframe.\n"
   ]
  },
  {
   "cell_type": "code",
   "execution_count": 4,
   "metadata": {},
   "outputs": [
    {
     "data": {
      "text/html": [
       "<div>\n",
       "<style scoped>\n",
       "    .dataframe tbody tr th:only-of-type {\n",
       "        vertical-align: middle;\n",
       "    }\n",
       "\n",
       "    .dataframe tbody tr th {\n",
       "        vertical-align: top;\n",
       "    }\n",
       "\n",
       "    .dataframe thead th {\n",
       "        text-align: right;\n",
       "    }\n",
       "</style>\n",
       "<table border=\"1\" class=\"dataframe\">\n",
       "  <thead>\n",
       "    <tr style=\"text-align: right;\">\n",
       "      <th></th>\n",
       "      <th>Cement</th>\n",
       "      <th>Blast Furnace Slag</th>\n",
       "      <th>Fly Ash</th>\n",
       "      <th>Water</th>\n",
       "      <th>Superplasticizer</th>\n",
       "      <th>Coarse Aggregate</th>\n",
       "      <th>Fine Aggregate</th>\n",
       "      <th>Age</th>\n",
       "      <th>Strength</th>\n",
       "    </tr>\n",
       "  </thead>\n",
       "  <tbody>\n",
       "    <tr>\n",
       "      <th>0</th>\n",
       "      <td>540.0</td>\n",
       "      <td>0.0</td>\n",
       "      <td>0.0</td>\n",
       "      <td>162.0</td>\n",
       "      <td>2.5</td>\n",
       "      <td>1040.0</td>\n",
       "      <td>676.0</td>\n",
       "      <td>28</td>\n",
       "      <td>79.99</td>\n",
       "    </tr>\n",
       "    <tr>\n",
       "      <th>1</th>\n",
       "      <td>540.0</td>\n",
       "      <td>0.0</td>\n",
       "      <td>0.0</td>\n",
       "      <td>162.0</td>\n",
       "      <td>2.5</td>\n",
       "      <td>1055.0</td>\n",
       "      <td>676.0</td>\n",
       "      <td>28</td>\n",
       "      <td>61.89</td>\n",
       "    </tr>\n",
       "    <tr>\n",
       "      <th>2</th>\n",
       "      <td>332.5</td>\n",
       "      <td>142.5</td>\n",
       "      <td>0.0</td>\n",
       "      <td>228.0</td>\n",
       "      <td>0.0</td>\n",
       "      <td>932.0</td>\n",
       "      <td>594.0</td>\n",
       "      <td>270</td>\n",
       "      <td>40.27</td>\n",
       "    </tr>\n",
       "    <tr>\n",
       "      <th>3</th>\n",
       "      <td>332.5</td>\n",
       "      <td>142.5</td>\n",
       "      <td>0.0</td>\n",
       "      <td>228.0</td>\n",
       "      <td>0.0</td>\n",
       "      <td>932.0</td>\n",
       "      <td>594.0</td>\n",
       "      <td>365</td>\n",
       "      <td>41.05</td>\n",
       "    </tr>\n",
       "    <tr>\n",
       "      <th>4</th>\n",
       "      <td>198.6</td>\n",
       "      <td>132.4</td>\n",
       "      <td>0.0</td>\n",
       "      <td>192.0</td>\n",
       "      <td>0.0</td>\n",
       "      <td>978.4</td>\n",
       "      <td>825.5</td>\n",
       "      <td>360</td>\n",
       "      <td>44.30</td>\n",
       "    </tr>\n",
       "  </tbody>\n",
       "</table>\n",
       "</div>"
      ],
      "text/plain": [
       "   Cement  Blast Furnace Slag  Fly Ash  Water  Superplasticizer  \\\n",
       "0   540.0                 0.0      0.0  162.0               2.5   \n",
       "1   540.0                 0.0      0.0  162.0               2.5   \n",
       "2   332.5               142.5      0.0  228.0               0.0   \n",
       "3   332.5               142.5      0.0  228.0               0.0   \n",
       "4   198.6               132.4      0.0  192.0               0.0   \n",
       "\n",
       "   Coarse Aggregate  Fine Aggregate  Age  Strength  \n",
       "0            1040.0           676.0   28     79.99  \n",
       "1            1055.0           676.0   28     61.89  \n",
       "2             932.0           594.0  270     40.27  \n",
       "3             932.0           594.0  365     41.05  \n",
       "4             978.4           825.5  360     44.30  "
      ]
     },
     "execution_count": 4,
     "metadata": {},
     "output_type": "execute_result"
    }
   ],
   "source": [
    "filepath='https://s3-api.us-geo.objectstorage.softlayer.net/cf-courses-data/CognitiveClass/DL0101EN/labs/data/concrete_data.csv'\n",
    "concrete_data = pd.read_csv(filepath)\n",
    "\n",
    "concrete_data.head()"
   ]
  },
  {
   "cell_type": "markdown",
   "metadata": {},
   "source": [
    "So the first concrete sample has 540 cubic meter of cement, 0 cubic meter of blast furnace slag, 0 cubic meter of fly ash, 162 cubic meter of water, 2.5 cubic meter of superplaticizer, 1040 cubic meter of coarse aggregate, 676 cubic meter of fine aggregate. Such a concrete mix which is 28 days old, has a compressive strength of 79.99 MPa. \n"
   ]
  },
  {
   "cell_type": "markdown",
   "metadata": {},
   "source": [
    "#### Let's check how many data points we have\n"
   ]
  },
  {
   "cell_type": "code",
   "execution_count": 5,
   "metadata": {},
   "outputs": [
    {
     "data": {
      "text/plain": [
       "(1030, 9)"
      ]
     },
     "execution_count": 5,
     "metadata": {},
     "output_type": "execute_result"
    }
   ],
   "source": [
    "concrete_data.shape"
   ]
  },
  {
   "cell_type": "markdown",
   "metadata": {},
   "source": [
    "So, there are approximately 1000 samples to train our model on. Because of the few samples, we have to be careful not to overfit the training data.\n"
   ]
  },
  {
   "cell_type": "markdown",
   "metadata": {},
   "source": [
    "Let's check the dataset for any missing values.\n"
   ]
  },
  {
   "cell_type": "code",
   "execution_count": 6,
   "metadata": {},
   "outputs": [
    {
     "data": {
      "text/html": [
       "<div>\n",
       "<style scoped>\n",
       "    .dataframe tbody tr th:only-of-type {\n",
       "        vertical-align: middle;\n",
       "    }\n",
       "\n",
       "    .dataframe tbody tr th {\n",
       "        vertical-align: top;\n",
       "    }\n",
       "\n",
       "    .dataframe thead th {\n",
       "        text-align: right;\n",
       "    }\n",
       "</style>\n",
       "<table border=\"1\" class=\"dataframe\">\n",
       "  <thead>\n",
       "    <tr style=\"text-align: right;\">\n",
       "      <th></th>\n",
       "      <th>Cement</th>\n",
       "      <th>Blast Furnace Slag</th>\n",
       "      <th>Fly Ash</th>\n",
       "      <th>Water</th>\n",
       "      <th>Superplasticizer</th>\n",
       "      <th>Coarse Aggregate</th>\n",
       "      <th>Fine Aggregate</th>\n",
       "      <th>Age</th>\n",
       "      <th>Strength</th>\n",
       "    </tr>\n",
       "  </thead>\n",
       "  <tbody>\n",
       "    <tr>\n",
       "      <th>count</th>\n",
       "      <td>1030.000000</td>\n",
       "      <td>1030.000000</td>\n",
       "      <td>1030.000000</td>\n",
       "      <td>1030.000000</td>\n",
       "      <td>1030.000000</td>\n",
       "      <td>1030.000000</td>\n",
       "      <td>1030.000000</td>\n",
       "      <td>1030.000000</td>\n",
       "      <td>1030.000000</td>\n",
       "    </tr>\n",
       "    <tr>\n",
       "      <th>mean</th>\n",
       "      <td>281.167864</td>\n",
       "      <td>73.895825</td>\n",
       "      <td>54.188350</td>\n",
       "      <td>181.567282</td>\n",
       "      <td>6.204660</td>\n",
       "      <td>972.918932</td>\n",
       "      <td>773.580485</td>\n",
       "      <td>45.662136</td>\n",
       "      <td>35.817961</td>\n",
       "    </tr>\n",
       "    <tr>\n",
       "      <th>std</th>\n",
       "      <td>104.506364</td>\n",
       "      <td>86.279342</td>\n",
       "      <td>63.997004</td>\n",
       "      <td>21.354219</td>\n",
       "      <td>5.973841</td>\n",
       "      <td>77.753954</td>\n",
       "      <td>80.175980</td>\n",
       "      <td>63.169912</td>\n",
       "      <td>16.705742</td>\n",
       "    </tr>\n",
       "    <tr>\n",
       "      <th>min</th>\n",
       "      <td>102.000000</td>\n",
       "      <td>0.000000</td>\n",
       "      <td>0.000000</td>\n",
       "      <td>121.800000</td>\n",
       "      <td>0.000000</td>\n",
       "      <td>801.000000</td>\n",
       "      <td>594.000000</td>\n",
       "      <td>1.000000</td>\n",
       "      <td>2.330000</td>\n",
       "    </tr>\n",
       "    <tr>\n",
       "      <th>25%</th>\n",
       "      <td>192.375000</td>\n",
       "      <td>0.000000</td>\n",
       "      <td>0.000000</td>\n",
       "      <td>164.900000</td>\n",
       "      <td>0.000000</td>\n",
       "      <td>932.000000</td>\n",
       "      <td>730.950000</td>\n",
       "      <td>7.000000</td>\n",
       "      <td>23.710000</td>\n",
       "    </tr>\n",
       "    <tr>\n",
       "      <th>50%</th>\n",
       "      <td>272.900000</td>\n",
       "      <td>22.000000</td>\n",
       "      <td>0.000000</td>\n",
       "      <td>185.000000</td>\n",
       "      <td>6.400000</td>\n",
       "      <td>968.000000</td>\n",
       "      <td>779.500000</td>\n",
       "      <td>28.000000</td>\n",
       "      <td>34.445000</td>\n",
       "    </tr>\n",
       "    <tr>\n",
       "      <th>75%</th>\n",
       "      <td>350.000000</td>\n",
       "      <td>142.950000</td>\n",
       "      <td>118.300000</td>\n",
       "      <td>192.000000</td>\n",
       "      <td>10.200000</td>\n",
       "      <td>1029.400000</td>\n",
       "      <td>824.000000</td>\n",
       "      <td>56.000000</td>\n",
       "      <td>46.135000</td>\n",
       "    </tr>\n",
       "    <tr>\n",
       "      <th>max</th>\n",
       "      <td>540.000000</td>\n",
       "      <td>359.400000</td>\n",
       "      <td>200.100000</td>\n",
       "      <td>247.000000</td>\n",
       "      <td>32.200000</td>\n",
       "      <td>1145.000000</td>\n",
       "      <td>992.600000</td>\n",
       "      <td>365.000000</td>\n",
       "      <td>82.600000</td>\n",
       "    </tr>\n",
       "  </tbody>\n",
       "</table>\n",
       "</div>"
      ],
      "text/plain": [
       "            Cement  Blast Furnace Slag      Fly Ash        Water  \\\n",
       "count  1030.000000         1030.000000  1030.000000  1030.000000   \n",
       "mean    281.167864           73.895825    54.188350   181.567282   \n",
       "std     104.506364           86.279342    63.997004    21.354219   \n",
       "min     102.000000            0.000000     0.000000   121.800000   \n",
       "25%     192.375000            0.000000     0.000000   164.900000   \n",
       "50%     272.900000           22.000000     0.000000   185.000000   \n",
       "75%     350.000000          142.950000   118.300000   192.000000   \n",
       "max     540.000000          359.400000   200.100000   247.000000   \n",
       "\n",
       "       Superplasticizer  Coarse Aggregate  Fine Aggregate          Age  \\\n",
       "count       1030.000000       1030.000000     1030.000000  1030.000000   \n",
       "mean           6.204660        972.918932      773.580485    45.662136   \n",
       "std            5.973841         77.753954       80.175980    63.169912   \n",
       "min            0.000000        801.000000      594.000000     1.000000   \n",
       "25%            0.000000        932.000000      730.950000     7.000000   \n",
       "50%            6.400000        968.000000      779.500000    28.000000   \n",
       "75%           10.200000       1029.400000      824.000000    56.000000   \n",
       "max           32.200000       1145.000000      992.600000   365.000000   \n",
       "\n",
       "          Strength  \n",
       "count  1030.000000  \n",
       "mean     35.817961  \n",
       "std      16.705742  \n",
       "min       2.330000  \n",
       "25%      23.710000  \n",
       "50%      34.445000  \n",
       "75%      46.135000  \n",
       "max      82.600000  "
      ]
     },
     "execution_count": 6,
     "metadata": {},
     "output_type": "execute_result"
    }
   ],
   "source": [
    "concrete_data.describe()"
   ]
  },
  {
   "cell_type": "code",
   "execution_count": 7,
   "metadata": {},
   "outputs": [
    {
     "data": {
      "text/plain": [
       "Cement                0\n",
       "Blast Furnace Slag    0\n",
       "Fly Ash               0\n",
       "Water                 0\n",
       "Superplasticizer      0\n",
       "Coarse Aggregate      0\n",
       "Fine Aggregate        0\n",
       "Age                   0\n",
       "Strength              0\n",
       "dtype: int64"
      ]
     },
     "execution_count": 7,
     "metadata": {},
     "output_type": "execute_result"
    }
   ],
   "source": [
    "concrete_data.isnull().sum()"
   ]
  },
  {
   "cell_type": "markdown",
   "metadata": {},
   "source": [
    "The data looks very clean and is ready to be used to build our model.\n"
   ]
  },
  {
   "cell_type": "markdown",
   "metadata": {},
   "source": [
    "#### Split data into predictors and target\n"
   ]
  },
  {
   "cell_type": "markdown",
   "metadata": {},
   "source": [
    "The target variable in this problem is the concrete sample strength. Therefore, our predictors will be all the other columns.\n"
   ]
  },
  {
   "cell_type": "code",
   "execution_count": 8,
   "metadata": {},
   "outputs": [],
   "source": [
    "concrete_data_columns = concrete_data.columns"
   ]
  },
  {
   "cell_type": "code",
   "execution_count": 9,
   "metadata": {},
   "outputs": [],
   "source": [
    "predictors = concrete_data[concrete_data_columns[concrete_data_columns != 'Strength']] # all columns except Strength\n",
    "target = concrete_data['Strength'] # Strength column"
   ]
  },
  {
   "cell_type": "markdown",
   "metadata": {},
   "source": [
    "<a id=\"item2\"></a>\n"
   ]
  },
  {
   "cell_type": "markdown",
   "metadata": {},
   "source": [
    "Let's do a quick sanity check of the predictors and the target dataframes.\n"
   ]
  },
  {
   "cell_type": "code",
   "execution_count": 10,
   "metadata": {},
   "outputs": [
    {
     "data": {
      "text/html": [
       "<div>\n",
       "<style scoped>\n",
       "    .dataframe tbody tr th:only-of-type {\n",
       "        vertical-align: middle;\n",
       "    }\n",
       "\n",
       "    .dataframe tbody tr th {\n",
       "        vertical-align: top;\n",
       "    }\n",
       "\n",
       "    .dataframe thead th {\n",
       "        text-align: right;\n",
       "    }\n",
       "</style>\n",
       "<table border=\"1\" class=\"dataframe\">\n",
       "  <thead>\n",
       "    <tr style=\"text-align: right;\">\n",
       "      <th></th>\n",
       "      <th>Cement</th>\n",
       "      <th>Blast Furnace Slag</th>\n",
       "      <th>Fly Ash</th>\n",
       "      <th>Water</th>\n",
       "      <th>Superplasticizer</th>\n",
       "      <th>Coarse Aggregate</th>\n",
       "      <th>Fine Aggregate</th>\n",
       "      <th>Age</th>\n",
       "    </tr>\n",
       "  </thead>\n",
       "  <tbody>\n",
       "    <tr>\n",
       "      <th>0</th>\n",
       "      <td>540.0</td>\n",
       "      <td>0.0</td>\n",
       "      <td>0.0</td>\n",
       "      <td>162.0</td>\n",
       "      <td>2.5</td>\n",
       "      <td>1040.0</td>\n",
       "      <td>676.0</td>\n",
       "      <td>28</td>\n",
       "    </tr>\n",
       "    <tr>\n",
       "      <th>1</th>\n",
       "      <td>540.0</td>\n",
       "      <td>0.0</td>\n",
       "      <td>0.0</td>\n",
       "      <td>162.0</td>\n",
       "      <td>2.5</td>\n",
       "      <td>1055.0</td>\n",
       "      <td>676.0</td>\n",
       "      <td>28</td>\n",
       "    </tr>\n",
       "    <tr>\n",
       "      <th>2</th>\n",
       "      <td>332.5</td>\n",
       "      <td>142.5</td>\n",
       "      <td>0.0</td>\n",
       "      <td>228.0</td>\n",
       "      <td>0.0</td>\n",
       "      <td>932.0</td>\n",
       "      <td>594.0</td>\n",
       "      <td>270</td>\n",
       "    </tr>\n",
       "    <tr>\n",
       "      <th>3</th>\n",
       "      <td>332.5</td>\n",
       "      <td>142.5</td>\n",
       "      <td>0.0</td>\n",
       "      <td>228.0</td>\n",
       "      <td>0.0</td>\n",
       "      <td>932.0</td>\n",
       "      <td>594.0</td>\n",
       "      <td>365</td>\n",
       "    </tr>\n",
       "    <tr>\n",
       "      <th>4</th>\n",
       "      <td>198.6</td>\n",
       "      <td>132.4</td>\n",
       "      <td>0.0</td>\n",
       "      <td>192.0</td>\n",
       "      <td>0.0</td>\n",
       "      <td>978.4</td>\n",
       "      <td>825.5</td>\n",
       "      <td>360</td>\n",
       "    </tr>\n",
       "  </tbody>\n",
       "</table>\n",
       "</div>"
      ],
      "text/plain": [
       "   Cement  Blast Furnace Slag  Fly Ash  Water  Superplasticizer  \\\n",
       "0   540.0                 0.0      0.0  162.0               2.5   \n",
       "1   540.0                 0.0      0.0  162.0               2.5   \n",
       "2   332.5               142.5      0.0  228.0               0.0   \n",
       "3   332.5               142.5      0.0  228.0               0.0   \n",
       "4   198.6               132.4      0.0  192.0               0.0   \n",
       "\n",
       "   Coarse Aggregate  Fine Aggregate  Age  \n",
       "0            1040.0           676.0   28  \n",
       "1            1055.0           676.0   28  \n",
       "2             932.0           594.0  270  \n",
       "3             932.0           594.0  365  \n",
       "4             978.4           825.5  360  "
      ]
     },
     "execution_count": 10,
     "metadata": {},
     "output_type": "execute_result"
    }
   ],
   "source": [
    "predictors.head()"
   ]
  },
  {
   "cell_type": "code",
   "execution_count": 11,
   "metadata": {},
   "outputs": [
    {
     "data": {
      "text/plain": [
       "0    79.99\n",
       "1    61.89\n",
       "2    40.27\n",
       "3    41.05\n",
       "4    44.30\n",
       "Name: Strength, dtype: float64"
      ]
     },
     "execution_count": 11,
     "metadata": {},
     "output_type": "execute_result"
    }
   ],
   "source": [
    "target.head()"
   ]
  },
  {
   "cell_type": "markdown",
   "metadata": {},
   "source": [
    "Finally, the last step is to normalize the data by substracting the mean and dividing by the standard deviation.\n"
   ]
  },
  {
   "cell_type": "code",
   "execution_count": 12,
   "metadata": {},
   "outputs": [
    {
     "data": {
      "text/html": [
       "<div>\n",
       "<style scoped>\n",
       "    .dataframe tbody tr th:only-of-type {\n",
       "        vertical-align: middle;\n",
       "    }\n",
       "\n",
       "    .dataframe tbody tr th {\n",
       "        vertical-align: top;\n",
       "    }\n",
       "\n",
       "    .dataframe thead th {\n",
       "        text-align: right;\n",
       "    }\n",
       "</style>\n",
       "<table border=\"1\" class=\"dataframe\">\n",
       "  <thead>\n",
       "    <tr style=\"text-align: right;\">\n",
       "      <th></th>\n",
       "      <th>Cement</th>\n",
       "      <th>Blast Furnace Slag</th>\n",
       "      <th>Fly Ash</th>\n",
       "      <th>Water</th>\n",
       "      <th>Superplasticizer</th>\n",
       "      <th>Coarse Aggregate</th>\n",
       "      <th>Fine Aggregate</th>\n",
       "      <th>Age</th>\n",
       "    </tr>\n",
       "  </thead>\n",
       "  <tbody>\n",
       "    <tr>\n",
       "      <th>0</th>\n",
       "      <td>2.476712</td>\n",
       "      <td>-0.856472</td>\n",
       "      <td>-0.846733</td>\n",
       "      <td>-0.916319</td>\n",
       "      <td>-0.620147</td>\n",
       "      <td>0.862735</td>\n",
       "      <td>-1.217079</td>\n",
       "      <td>-0.279597</td>\n",
       "    </tr>\n",
       "    <tr>\n",
       "      <th>1</th>\n",
       "      <td>2.476712</td>\n",
       "      <td>-0.856472</td>\n",
       "      <td>-0.846733</td>\n",
       "      <td>-0.916319</td>\n",
       "      <td>-0.620147</td>\n",
       "      <td>1.055651</td>\n",
       "      <td>-1.217079</td>\n",
       "      <td>-0.279597</td>\n",
       "    </tr>\n",
       "    <tr>\n",
       "      <th>2</th>\n",
       "      <td>0.491187</td>\n",
       "      <td>0.795140</td>\n",
       "      <td>-0.846733</td>\n",
       "      <td>2.174405</td>\n",
       "      <td>-1.038638</td>\n",
       "      <td>-0.526262</td>\n",
       "      <td>-2.239829</td>\n",
       "      <td>3.551340</td>\n",
       "    </tr>\n",
       "    <tr>\n",
       "      <th>3</th>\n",
       "      <td>0.491187</td>\n",
       "      <td>0.795140</td>\n",
       "      <td>-0.846733</td>\n",
       "      <td>2.174405</td>\n",
       "      <td>-1.038638</td>\n",
       "      <td>-0.526262</td>\n",
       "      <td>-2.239829</td>\n",
       "      <td>5.055221</td>\n",
       "    </tr>\n",
       "    <tr>\n",
       "      <th>4</th>\n",
       "      <td>-0.790075</td>\n",
       "      <td>0.678079</td>\n",
       "      <td>-0.846733</td>\n",
       "      <td>0.488555</td>\n",
       "      <td>-1.038638</td>\n",
       "      <td>0.070492</td>\n",
       "      <td>0.647569</td>\n",
       "      <td>4.976069</td>\n",
       "    </tr>\n",
       "  </tbody>\n",
       "</table>\n",
       "</div>"
      ],
      "text/plain": [
       "     Cement  Blast Furnace Slag   Fly Ash     Water  Superplasticizer  \\\n",
       "0  2.476712           -0.856472 -0.846733 -0.916319         -0.620147   \n",
       "1  2.476712           -0.856472 -0.846733 -0.916319         -0.620147   \n",
       "2  0.491187            0.795140 -0.846733  2.174405         -1.038638   \n",
       "3  0.491187            0.795140 -0.846733  2.174405         -1.038638   \n",
       "4 -0.790075            0.678079 -0.846733  0.488555         -1.038638   \n",
       "\n",
       "   Coarse Aggregate  Fine Aggregate       Age  \n",
       "0          0.862735       -1.217079 -0.279597  \n",
       "1          1.055651       -1.217079 -0.279597  \n",
       "2         -0.526262       -2.239829  3.551340  \n",
       "3         -0.526262       -2.239829  5.055221  \n",
       "4          0.070492        0.647569  4.976069  "
      ]
     },
     "execution_count": 12,
     "metadata": {},
     "output_type": "execute_result"
    }
   ],
   "source": [
    "predictors_norm = (predictors - predictors.mean()) / predictors.std()\n",
    "predictors_norm.head()"
   ]
  },
  {
   "cell_type": "markdown",
   "metadata": {},
   "source": [
    "Let's save the number of predictors to *n_cols* since we will need this number when building our network.\n"
   ]
  },
  {
   "cell_type": "code",
   "execution_count": 13,
   "metadata": {},
   "outputs": [],
   "source": [
    "n_cols = predictors_norm.shape[1] # number of predictors"
   ]
  },
  {
   "cell_type": "markdown",
   "metadata": {},
   "source": [
    "<a id=\"item1\"></a>\n"
   ]
  },
  {
   "cell_type": "markdown",
   "metadata": {},
   "source": [
    "##  Import Keras Packages\n",
    "\n",
    "##### Let's import the rest of the packages from the Keras library that we will need to build our regression model.\n"
   ]
  },
  {
   "cell_type": "code",
   "execution_count": 14,
   "metadata": {},
   "outputs": [],
   "source": [
    "from keras.models import Sequential\n",
    "from keras.layers import Dense\n",
    "from keras.layers import Input"
   ]
  },
  {
   "cell_type": "markdown",
   "metadata": {},
   "source": [
    "## Build a Neural Network\n"
   ]
  },
  {
   "cell_type": "markdown",
   "metadata": {},
   "source": [
    "Let's define a function that defines our regression model for us so that we can conveniently call it to create our model.\n"
   ]
  },
  {
   "cell_type": "code",
   "execution_count": 15,
   "metadata": {},
   "outputs": [],
   "source": [
    "# define regression model\n",
    "def regression_model():\n",
    "    # create model\n",
    "    model = Sequential()\n",
    "    model.add(Input(shape=(n_cols,)))\n",
    "    model.add(Dense(50, activation='relu'))\n",
    "    model.add(Dense(50, activation='relu'))\n",
    "    model.add(Dense(1))\n",
    "    \n",
    "    # compile model\n",
    "    model.compile(optimizer='adam', loss='mean_squared_error')\n",
    "    return model"
   ]
  },
  {
   "cell_type": "markdown",
   "metadata": {},
   "source": [
    "The above function create a model that has two hidden layers, each of 50 hidden units.\n"
   ]
  },
  {
   "cell_type": "markdown",
   "metadata": {},
   "source": [
    "## Train and Test the Network\n"
   ]
  },
  {
   "cell_type": "markdown",
   "metadata": {},
   "source": [
    "Let's call the function now to create our model.\n"
   ]
  },
  {
   "cell_type": "code",
   "execution_count": 16,
   "metadata": {},
   "outputs": [],
   "source": [
    "# build the model\n",
    "model = regression_model()"
   ]
  },
  {
   "cell_type": "markdown",
   "metadata": {},
   "source": [
    "Next, we will train and test the model at the same time using the *fit* method. We will leave out 30% of the data for validation and we will train the model for 100 epochs.\n"
   ]
  },
  {
   "cell_type": "code",
   "execution_count": 17,
   "metadata": {},
   "outputs": [
    {
     "name": "stdout",
     "output_type": "stream",
     "text": [
      "Epoch 1/100\n",
      "23/23 - 1s - 60ms/step - loss: 1652.8428 - val_loss: 1152.0736\n",
      "Epoch 2/100\n",
      "23/23 - 0s - 9ms/step - loss: 1527.8073 - val_loss: 1044.6859\n",
      "Epoch 3/100\n",
      "23/23 - 0s - 9ms/step - loss: 1340.0090 - val_loss: 881.3251\n",
      "Epoch 4/100\n",
      "23/23 - 0s - 9ms/step - loss: 1061.6260 - val_loss: 668.9866\n",
      "Epoch 5/100\n",
      "23/23 - 0s - 8ms/step - loss: 718.9258 - val_loss: 442.9180\n",
      "Epoch 6/100\n",
      "23/23 - 0s - 8ms/step - loss: 414.7989 - val_loss: 279.1210\n",
      "Epoch 7/100\n",
      "23/23 - 0s - 8ms/step - loss: 259.0813 - val_loss: 206.6362\n",
      "Epoch 8/100\n",
      "23/23 - 0s - 7ms/step - loss: 221.7791 - val_loss: 186.7738\n",
      "Epoch 9/100\n",
      "23/23 - 0s - 8ms/step - loss: 208.0266 - val_loss: 182.8005\n",
      "Epoch 10/100\n",
      "23/23 - 0s - 7ms/step - loss: 197.2758 - val_loss: 171.6014\n",
      "Epoch 11/100\n",
      "23/23 - 0s - 7ms/step - loss: 188.5942 - val_loss: 167.0422\n",
      "Epoch 12/100\n",
      "23/23 - 0s - 8ms/step - loss: 181.8841 - val_loss: 161.5166\n",
      "Epoch 13/100\n",
      "23/23 - 0s - 8ms/step - loss: 176.0621 - val_loss: 159.2625\n",
      "Epoch 14/100\n",
      "23/23 - 0s - 8ms/step - loss: 171.9398 - val_loss: 157.0045\n",
      "Epoch 15/100\n",
      "23/23 - 0s - 8ms/step - loss: 167.4252 - val_loss: 153.7326\n",
      "Epoch 16/100\n",
      "23/23 - 0s - 8ms/step - loss: 164.1255 - val_loss: 153.9936\n",
      "Epoch 17/100\n",
      "23/23 - 0s - 8ms/step - loss: 161.7298 - val_loss: 150.9711\n",
      "Epoch 18/100\n",
      "23/23 - 0s - 8ms/step - loss: 158.5272 - val_loss: 153.5062\n",
      "Epoch 19/100\n",
      "23/23 - 0s - 8ms/step - loss: 156.2191 - val_loss: 150.0848\n",
      "Epoch 20/100\n",
      "23/23 - 0s - 7ms/step - loss: 153.9829 - val_loss: 150.1233\n",
      "Epoch 21/100\n",
      "23/23 - 0s - 8ms/step - loss: 151.5130 - val_loss: 149.7900\n",
      "Epoch 22/100\n",
      "23/23 - 0s - 8ms/step - loss: 150.3420 - val_loss: 148.5381\n",
      "Epoch 23/100\n",
      "23/23 - 0s - 8ms/step - loss: 148.3238 - val_loss: 149.6592\n",
      "Epoch 24/100\n",
      "23/23 - 0s - 8ms/step - loss: 146.7443 - val_loss: 148.5634\n",
      "Epoch 25/100\n",
      "23/23 - 0s - 8ms/step - loss: 146.0440 - val_loss: 149.6332\n",
      "Epoch 26/100\n",
      "23/23 - 0s - 7ms/step - loss: 144.0743 - val_loss: 150.2124\n",
      "Epoch 27/100\n",
      "23/23 - 0s - 7ms/step - loss: 142.3059 - val_loss: 149.2351\n",
      "Epoch 28/100\n",
      "23/23 - 0s - 7ms/step - loss: 140.9533 - val_loss: 150.4992\n",
      "Epoch 29/100\n",
      "23/23 - 0s - 8ms/step - loss: 139.6353 - val_loss: 148.9583\n",
      "Epoch 30/100\n",
      "23/23 - 0s - 9ms/step - loss: 138.6388 - val_loss: 149.9902\n",
      "Epoch 31/100\n",
      "23/23 - 0s - 8ms/step - loss: 137.3763 - val_loss: 152.5916\n",
      "Epoch 32/100\n",
      "23/23 - 0s - 7ms/step - loss: 135.7859 - val_loss: 151.3071\n",
      "Epoch 33/100\n",
      "23/23 - 0s - 7ms/step - loss: 134.5429 - val_loss: 152.8402\n",
      "Epoch 34/100\n",
      "23/23 - 0s - 8ms/step - loss: 133.0829 - val_loss: 154.0523\n",
      "Epoch 35/100\n",
      "23/23 - 0s - 8ms/step - loss: 131.0946 - val_loss: 153.5648\n",
      "Epoch 36/100\n",
      "23/23 - 0s - 7ms/step - loss: 130.0510 - val_loss: 152.7879\n",
      "Epoch 37/100\n",
      "23/23 - 0s - 8ms/step - loss: 128.9341 - val_loss: 153.0165\n",
      "Epoch 38/100\n",
      "23/23 - 0s - 8ms/step - loss: 127.2948 - val_loss: 152.6045\n",
      "Epoch 39/100\n",
      "23/23 - 0s - 8ms/step - loss: 126.2592 - val_loss: 156.7817\n",
      "Epoch 40/100\n",
      "23/23 - 0s - 8ms/step - loss: 124.6483 - val_loss: 151.3818\n",
      "Epoch 41/100\n",
      "23/23 - 0s - 8ms/step - loss: 122.7744 - val_loss: 154.1549\n",
      "Epoch 42/100\n",
      "23/23 - 0s - 8ms/step - loss: 121.4801 - val_loss: 157.6861\n",
      "Epoch 43/100\n",
      "23/23 - 0s - 8ms/step - loss: 119.6987 - val_loss: 155.3847\n",
      "Epoch 44/100\n",
      "23/23 - 0s - 8ms/step - loss: 118.5216 - val_loss: 156.2971\n",
      "Epoch 45/100\n",
      "23/23 - 0s - 8ms/step - loss: 116.3353 - val_loss: 156.8715\n",
      "Epoch 46/100\n",
      "23/23 - 0s - 8ms/step - loss: 114.4327 - val_loss: 155.1360\n",
      "Epoch 47/100\n",
      "23/23 - 0s - 8ms/step - loss: 112.5439 - val_loss: 155.1922\n",
      "Epoch 48/100\n",
      "23/23 - 0s - 7ms/step - loss: 110.1015 - val_loss: 153.6282\n",
      "Epoch 49/100\n",
      "23/23 - 0s - 8ms/step - loss: 108.0892 - val_loss: 153.6955\n",
      "Epoch 50/100\n",
      "23/23 - 0s - 8ms/step - loss: 105.6807 - val_loss: 155.5382\n",
      "Epoch 51/100\n",
      "23/23 - 0s - 9ms/step - loss: 103.1948 - val_loss: 153.5987\n",
      "Epoch 52/100\n",
      "23/23 - 0s - 8ms/step - loss: 100.9725 - val_loss: 150.0596\n",
      "Epoch 53/100\n",
      "23/23 - 0s - 8ms/step - loss: 98.0526 - val_loss: 150.6779\n",
      "Epoch 54/100\n",
      "23/23 - 0s - 8ms/step - loss: 95.3818 - val_loss: 147.9538\n",
      "Epoch 55/100\n",
      "23/23 - 0s - 8ms/step - loss: 92.9877 - val_loss: 147.3098\n",
      "Epoch 56/100\n",
      "23/23 - 0s - 8ms/step - loss: 89.9382 - val_loss: 144.5229\n",
      "Epoch 57/100\n",
      "23/23 - 0s - 8ms/step - loss: 85.9326 - val_loss: 140.5396\n",
      "Epoch 58/100\n",
      "23/23 - 0s - 8ms/step - loss: 83.0976 - val_loss: 134.6378\n",
      "Epoch 59/100\n",
      "23/23 - 0s - 8ms/step - loss: 79.9853 - val_loss: 138.2226\n",
      "Epoch 60/100\n",
      "23/23 - 0s - 8ms/step - loss: 77.2715 - val_loss: 136.2498\n",
      "Epoch 61/100\n",
      "23/23 - 0s - 8ms/step - loss: 75.9711 - val_loss: 132.0205\n",
      "Epoch 62/100\n",
      "23/23 - 0s - 9ms/step - loss: 70.1419 - val_loss: 131.3741\n",
      "Epoch 63/100\n",
      "23/23 - 0s - 8ms/step - loss: 68.1277 - val_loss: 127.2052\n",
      "Epoch 64/100\n",
      "23/23 - 0s - 7ms/step - loss: 64.8571 - val_loss: 128.8025\n",
      "Epoch 65/100\n",
      "23/23 - 0s - 8ms/step - loss: 62.8171 - val_loss: 119.5110\n",
      "Epoch 66/100\n",
      "23/23 - 0s - 8ms/step - loss: 60.9757 - val_loss: 123.3093\n",
      "Epoch 67/100\n",
      "23/23 - 0s - 8ms/step - loss: 58.0807 - val_loss: 124.1997\n",
      "Epoch 68/100\n",
      "23/23 - 0s - 8ms/step - loss: 56.3075 - val_loss: 122.4359\n",
      "Epoch 69/100\n",
      "23/23 - 0s - 8ms/step - loss: 54.4139 - val_loss: 116.5467\n",
      "Epoch 70/100\n",
      "23/23 - 0s - 8ms/step - loss: 52.9846 - val_loss: 119.9144\n",
      "Epoch 71/100\n",
      "23/23 - 0s - 8ms/step - loss: 51.4690 - val_loss: 119.2495\n",
      "Epoch 72/100\n",
      "23/23 - 0s - 8ms/step - loss: 49.7014 - val_loss: 118.1343\n",
      "Epoch 73/100\n",
      "23/23 - 0s - 8ms/step - loss: 48.4038 - val_loss: 112.7117\n",
      "Epoch 74/100\n",
      "23/23 - 0s - 8ms/step - loss: 47.4490 - val_loss: 115.1303\n",
      "Epoch 75/100\n",
      "23/23 - 0s - 8ms/step - loss: 46.2845 - val_loss: 113.8876\n",
      "Epoch 76/100\n",
      "23/23 - 0s - 8ms/step - loss: 45.0626 - val_loss: 117.9940\n",
      "Epoch 77/100\n",
      "23/23 - 0s - 8ms/step - loss: 44.0395 - val_loss: 115.9946\n",
      "Epoch 78/100\n",
      "23/23 - 0s - 8ms/step - loss: 43.0375 - val_loss: 107.6004\n",
      "Epoch 79/100\n",
      "23/23 - 0s - 7ms/step - loss: 42.8599 - val_loss: 113.8387\n",
      "Epoch 80/100\n",
      "23/23 - 0s - 8ms/step - loss: 41.6334 - val_loss: 117.4249\n",
      "Epoch 81/100\n",
      "23/23 - 0s - 8ms/step - loss: 40.5459 - val_loss: 109.0706\n",
      "Epoch 82/100\n",
      "23/23 - 0s - 7ms/step - loss: 39.6802 - val_loss: 112.8636\n",
      "Epoch 83/100\n",
      "23/23 - 0s - 8ms/step - loss: 39.3669 - val_loss: 110.2080\n",
      "Epoch 84/100\n",
      "23/23 - 0s - 8ms/step - loss: 39.0690 - val_loss: 116.1797\n",
      "Epoch 85/100\n",
      "23/23 - 0s - 8ms/step - loss: 37.8584 - val_loss: 106.1973\n",
      "Epoch 86/100\n",
      "23/23 - 0s - 8ms/step - loss: 37.0534 - val_loss: 116.3119\n",
      "Epoch 87/100\n",
      "23/23 - 0s - 7ms/step - loss: 36.9606 - val_loss: 113.1654\n",
      "Epoch 88/100\n",
      "23/23 - 0s - 7ms/step - loss: 36.2360 - val_loss: 105.1178\n",
      "Epoch 89/100\n",
      "23/23 - 0s - 7ms/step - loss: 35.9905 - val_loss: 107.7420\n",
      "Epoch 90/100\n",
      "23/23 - 0s - 8ms/step - loss: 35.7072 - val_loss: 108.5908\n",
      "Epoch 91/100\n",
      "23/23 - 0s - 7ms/step - loss: 35.0664 - val_loss: 109.1398\n",
      "Epoch 92/100\n",
      "23/23 - 0s - 8ms/step - loss: 34.1138 - val_loss: 118.9351\n",
      "Epoch 93/100\n",
      "23/23 - 0s - 7ms/step - loss: 33.8087 - val_loss: 107.4143\n",
      "Epoch 94/100\n",
      "23/23 - 0s - 8ms/step - loss: 33.4058 - val_loss: 108.1322\n",
      "Epoch 95/100\n",
      "23/23 - 0s - 8ms/step - loss: 32.9641 - val_loss: 109.9495\n",
      "Epoch 96/100\n",
      "23/23 - 0s - 7ms/step - loss: 33.1166 - val_loss: 114.3834\n",
      "Epoch 97/100\n",
      "23/23 - 0s - 8ms/step - loss: 32.0331 - val_loss: 103.1453\n",
      "Epoch 98/100\n",
      "23/23 - 0s - 9ms/step - loss: 31.6829 - val_loss: 113.9299\n",
      "Epoch 99/100\n",
      "23/23 - 0s - 8ms/step - loss: 31.4442 - val_loss: 113.4781\n",
      "Epoch 100/100\n",
      "23/23 - 0s - 7ms/step - loss: 31.2814 - val_loss: 103.1216\n"
     ]
    },
    {
     "data": {
      "text/plain": [
       "<keras.src.callbacks.history.History at 0x7270de773080>"
      ]
     },
     "execution_count": 17,
     "metadata": {},
     "output_type": "execute_result"
    }
   ],
   "source": [
    "# fit the model\n",
    "model.fit(predictors_norm, target, validation_split=0.3, epochs=100, verbose=2)"
   ]
  },
  {
   "cell_type": "markdown",
   "metadata": {},
   "source": [
    "<strong>You can refer to this [link](https://keras.io/models/sequential/) to learn about other functions that you can use for prediction or evaluation.</strong>\n"
   ]
  },
  {
   "cell_type": "markdown",
   "metadata": {},
   "source": [
    "Feel free to vary the following and note what impact each change has on the model's performance:\n",
    "\n",
    "1. Increase or decreate number of neurons in hidden layers\n",
    "2. Add more hidden layers\n",
    "3. Increase number of epochs\n"
   ]
  },
  {
   "cell_type": "markdown",
   "metadata": {},
   "source": [
    "<h3>Practice Exercise 1</h3>\n"
   ]
  },
  {
   "cell_type": "markdown",
   "metadata": {},
   "source": [
    "Now using the same dateset,try to recreate regression model featuring five hidden layers, each with 50 nodes and ReLU activation functions, a single output layer, optimized using the Adam optimizer.\n"
   ]
  },
  {
   "cell_type": "code",
   "execution_count": 18,
   "metadata": {},
   "outputs": [],
   "source": [
    "# define regression model\n",
    "def regression_model2():\n",
    "    # create model\n",
    "    model = Sequential()\n",
    "    model.add(Input(shape=(n_cols,)))\n",
    "    model.add(Dense(50, activation='relu'))\n",
    "    model.add(Dense(50, activation='relu'))\n",
    "    model.add(Dense(50, activation='relu'))\n",
    "    model.add(Dense(50, activation='relu'))\n",
    "    model.add(Dense(50, activation='relu'))\n",
    "    model.add(Dense(1))\n",
    "    \n",
    "    # compile model\n",
    "    model.compile(optimizer='adam', loss='mean_squared_error')\n",
    "    return model\n",
    "\n",
    "model_2 = regression_model2()"
   ]
  },
  {
   "cell_type": "markdown",
   "metadata": {},
   "source": [
    "<h3>Practice Exercise 2</h3>\n"
   ]
  },
  {
   "cell_type": "markdown",
   "metadata": {},
   "source": [
    " Train and evaluate the model simultaneously using the fit() method by reserving 10% of the data for validation and training the model for 100 epochs\n"
   ]
  },
  {
   "cell_type": "code",
   "execution_count": 19,
   "metadata": {},
   "outputs": [
    {
     "name": "stdout",
     "output_type": "stream",
     "text": [
      "Epoch 1/100\n",
      "29/29 - 2s - 82ms/step - loss: 1431.1807 - val_loss: 781.7866\n",
      "Epoch 2/100\n",
      "29/29 - 0s - 9ms/step - loss: 509.6862 - val_loss: 250.4856\n",
      "Epoch 3/100\n",
      "29/29 - 0s - 9ms/step - loss: 227.0996 - val_loss: 192.3539\n",
      "Epoch 4/100\n",
      "29/29 - 0s - 9ms/step - loss: 193.0844 - val_loss: 170.0636\n",
      "Epoch 5/100\n",
      "29/29 - 0s - 8ms/step - loss: 171.7982 - val_loss: 159.8162\n",
      "Epoch 6/100\n",
      "29/29 - 0s - 8ms/step - loss: 149.7379 - val_loss: 138.3578\n",
      "Epoch 7/100\n",
      "29/29 - 0s - 7ms/step - loss: 130.6633 - val_loss: 132.0676\n",
      "Epoch 8/100\n",
      "29/29 - 0s - 8ms/step - loss: 115.2060 - val_loss: 116.3658\n",
      "Epoch 9/100\n",
      "29/29 - 0s - 8ms/step - loss: 99.1458 - val_loss: 106.1950\n",
      "Epoch 10/100\n",
      "29/29 - 0s - 8ms/step - loss: 86.5988 - val_loss: 89.6488\n",
      "Epoch 11/100\n",
      "29/29 - 0s - 8ms/step - loss: 74.9049 - val_loss: 83.5778\n",
      "Epoch 12/100\n",
      "29/29 - 0s - 9ms/step - loss: 65.5686 - val_loss: 77.9810\n",
      "Epoch 13/100\n",
      "29/29 - 0s - 8ms/step - loss: 58.6517 - val_loss: 66.6301\n",
      "Epoch 14/100\n",
      "29/29 - 0s - 8ms/step - loss: 51.7558 - val_loss: 61.3041\n",
      "Epoch 15/100\n",
      "29/29 - 0s - 8ms/step - loss: 46.6102 - val_loss: 54.3848\n",
      "Epoch 16/100\n",
      "29/29 - 0s - 8ms/step - loss: 42.9786 - val_loss: 53.4623\n",
      "Epoch 17/100\n",
      "29/29 - 0s - 8ms/step - loss: 41.3111 - val_loss: 46.8328\n",
      "Epoch 18/100\n",
      "29/29 - 0s - 8ms/step - loss: 38.0534 - val_loss: 44.4046\n",
      "Epoch 19/100\n",
      "29/29 - 0s - 8ms/step - loss: 36.1155 - val_loss: 39.1864\n",
      "Epoch 20/100\n",
      "29/29 - 0s - 8ms/step - loss: 33.6599 - val_loss: 38.8932\n",
      "Epoch 21/100\n",
      "29/29 - 0s - 8ms/step - loss: 32.4949 - val_loss: 35.2440\n",
      "Epoch 22/100\n",
      "29/29 - 0s - 8ms/step - loss: 30.0237 - val_loss: 33.4480\n",
      "Epoch 23/100\n",
      "29/29 - 0s - 8ms/step - loss: 28.7605 - val_loss: 31.3115\n",
      "Epoch 24/100\n",
      "29/29 - 0s - 8ms/step - loss: 27.2525 - val_loss: 40.1311\n",
      "Epoch 25/100\n",
      "29/29 - 0s - 8ms/step - loss: 26.2890 - val_loss: 28.5938\n",
      "Epoch 26/100\n",
      "29/29 - 0s - 7ms/step - loss: 26.7804 - val_loss: 34.3871\n",
      "Epoch 27/100\n",
      "29/29 - 0s - 8ms/step - loss: 24.9658 - val_loss: 31.0074\n",
      "Epoch 28/100\n",
      "29/29 - 0s - 8ms/step - loss: 24.8027 - val_loss: 26.9438\n",
      "Epoch 29/100\n",
      "29/29 - 0s - 8ms/step - loss: 23.1532 - val_loss: 25.6032\n",
      "Epoch 30/100\n",
      "29/29 - 0s - 7ms/step - loss: 22.6661 - val_loss: 26.6915\n",
      "Epoch 31/100\n",
      "29/29 - 0s - 8ms/step - loss: 22.0368 - val_loss: 24.5475\n",
      "Epoch 32/100\n",
      "29/29 - 0s - 8ms/step - loss: 21.2219 - val_loss: 26.8772\n",
      "Epoch 33/100\n",
      "29/29 - 0s - 8ms/step - loss: 21.8642 - val_loss: 22.9315\n",
      "Epoch 34/100\n",
      "29/29 - 0s - 8ms/step - loss: 22.3453 - val_loss: 28.7195\n",
      "Epoch 35/100\n",
      "29/29 - 0s - 8ms/step - loss: 20.0978 - val_loss: 24.5478\n",
      "Epoch 36/100\n",
      "29/29 - 0s - 8ms/step - loss: 20.4170 - val_loss: 23.5801\n",
      "Epoch 37/100\n",
      "29/29 - 0s - 8ms/step - loss: 21.2487 - val_loss: 22.8820\n",
      "Epoch 38/100\n",
      "29/29 - 0s - 8ms/step - loss: 21.5646 - val_loss: 24.1455\n",
      "Epoch 39/100\n",
      "29/29 - 0s - 9ms/step - loss: 19.7035 - val_loss: 23.4495\n",
      "Epoch 40/100\n",
      "29/29 - 0s - 7ms/step - loss: 18.3877 - val_loss: 22.7815\n",
      "Epoch 41/100\n",
      "29/29 - 0s - 7ms/step - loss: 18.3880 - val_loss: 25.6342\n",
      "Epoch 42/100\n",
      "29/29 - 0s - 8ms/step - loss: 18.8449 - val_loss: 22.5716\n",
      "Epoch 43/100\n",
      "29/29 - 0s - 8ms/step - loss: 18.2332 - val_loss: 24.0469\n",
      "Epoch 44/100\n",
      "29/29 - 0s - 8ms/step - loss: 17.4279 - val_loss: 23.3592\n",
      "Epoch 45/100\n",
      "29/29 - 0s - 8ms/step - loss: 16.9353 - val_loss: 23.4219\n",
      "Epoch 46/100\n",
      "29/29 - 0s - 8ms/step - loss: 17.1444 - val_loss: 26.0512\n",
      "Epoch 47/100\n",
      "29/29 - 0s - 8ms/step - loss: 16.9575 - val_loss: 22.5511\n",
      "Epoch 48/100\n",
      "29/29 - 0s - 8ms/step - loss: 16.6882 - val_loss: 22.2861\n",
      "Epoch 49/100\n",
      "29/29 - 0s - 8ms/step - loss: 16.3886 - val_loss: 22.5172\n",
      "Epoch 50/100\n",
      "29/29 - 0s - 9ms/step - loss: 16.1403 - val_loss: 24.8362\n",
      "Epoch 51/100\n",
      "29/29 - 0s - 8ms/step - loss: 15.8817 - val_loss: 24.0661\n",
      "Epoch 52/100\n",
      "29/29 - 0s - 8ms/step - loss: 15.7292 - val_loss: 22.4846\n",
      "Epoch 53/100\n",
      "29/29 - 0s - 8ms/step - loss: 15.3301 - val_loss: 20.2893\n",
      "Epoch 54/100\n",
      "29/29 - 0s - 8ms/step - loss: 14.7931 - val_loss: 19.8578\n",
      "Epoch 55/100\n",
      "29/29 - 0s - 8ms/step - loss: 15.6732 - val_loss: 23.1496\n",
      "Epoch 56/100\n",
      "29/29 - 0s - 8ms/step - loss: 15.1104 - val_loss: 20.7697\n",
      "Epoch 57/100\n",
      "29/29 - 0s - 8ms/step - loss: 15.8465 - val_loss: 22.0628\n",
      "Epoch 58/100\n",
      "29/29 - 0s - 8ms/step - loss: 14.2507 - val_loss: 18.4973\n",
      "Epoch 59/100\n",
      "29/29 - 0s - 8ms/step - loss: 16.6520 - val_loss: 20.1507\n",
      "Epoch 60/100\n",
      "29/29 - 0s - 8ms/step - loss: 15.5214 - val_loss: 19.8545\n",
      "Epoch 61/100\n",
      "29/29 - 0s - 8ms/step - loss: 14.4438 - val_loss: 20.3507\n",
      "Epoch 62/100\n",
      "29/29 - 0s - 8ms/step - loss: 14.1557 - val_loss: 19.6861\n",
      "Epoch 63/100\n",
      "29/29 - 0s - 8ms/step - loss: 13.0353 - val_loss: 21.9837\n",
      "Epoch 64/100\n",
      "29/29 - 0s - 8ms/step - loss: 13.9987 - val_loss: 19.5582\n",
      "Epoch 65/100\n",
      "29/29 - 0s - 8ms/step - loss: 13.7198 - val_loss: 20.0532\n",
      "Epoch 66/100\n",
      "29/29 - 0s - 8ms/step - loss: 13.0405 - val_loss: 18.7951\n",
      "Epoch 67/100\n",
      "29/29 - 0s - 8ms/step - loss: 13.8614 - val_loss: 17.2006\n",
      "Epoch 68/100\n",
      "29/29 - 0s - 8ms/step - loss: 13.5783 - val_loss: 18.3395\n",
      "Epoch 69/100\n",
      "29/29 - 0s - 8ms/step - loss: 15.3355 - val_loss: 19.3529\n",
      "Epoch 70/100\n",
      "29/29 - 0s - 8ms/step - loss: 13.0905 - val_loss: 20.6775\n",
      "Epoch 71/100\n",
      "29/29 - 0s - 8ms/step - loss: 13.0283 - val_loss: 19.1505\n",
      "Epoch 72/100\n",
      "29/29 - 0s - 8ms/step - loss: 12.4849 - val_loss: 16.2689\n",
      "Epoch 73/100\n",
      "29/29 - 0s - 8ms/step - loss: 13.0496 - val_loss: 17.7598\n",
      "Epoch 74/100\n",
      "29/29 - 0s - 8ms/step - loss: 13.5919 - val_loss: 17.5945\n",
      "Epoch 75/100\n",
      "29/29 - 0s - 8ms/step - loss: 12.4526 - val_loss: 18.4012\n",
      "Epoch 76/100\n",
      "29/29 - 0s - 8ms/step - loss: 13.1316 - val_loss: 16.9990\n",
      "Epoch 77/100\n",
      "29/29 - 0s - 8ms/step - loss: 12.7740 - val_loss: 15.9343\n",
      "Epoch 78/100\n",
      "29/29 - 0s - 8ms/step - loss: 12.8597 - val_loss: 15.7192\n",
      "Epoch 79/100\n",
      "29/29 - 0s - 8ms/step - loss: 12.2645 - val_loss: 15.1998\n",
      "Epoch 80/100\n",
      "29/29 - 0s - 8ms/step - loss: 12.3404 - val_loss: 19.9044\n",
      "Epoch 81/100\n",
      "29/29 - 0s - 8ms/step - loss: 12.5857 - val_loss: 17.8534\n",
      "Epoch 82/100\n",
      "29/29 - 0s - 8ms/step - loss: 12.1946 - val_loss: 15.8452\n",
      "Epoch 83/100\n",
      "29/29 - 0s - 8ms/step - loss: 11.4985 - val_loss: 15.5562\n",
      "Epoch 84/100\n",
      "29/29 - 0s - 14ms/step - loss: 12.3226 - val_loss: 16.5517\n",
      "Epoch 85/100\n",
      "29/29 - 0s - 10ms/step - loss: 12.6244 - val_loss: 19.7848\n",
      "Epoch 86/100\n",
      "29/29 - 0s - 9ms/step - loss: 12.1825 - val_loss: 16.2387\n",
      "Epoch 87/100\n",
      "29/29 - 0s - 9ms/step - loss: 11.4823 - val_loss: 14.4546\n",
      "Epoch 88/100\n",
      "29/29 - 0s - 8ms/step - loss: 11.2116 - val_loss: 14.5185\n",
      "Epoch 89/100\n",
      "29/29 - 0s - 13ms/step - loss: 11.3768 - val_loss: 18.2702\n",
      "Epoch 90/100\n",
      "29/29 - 0s - 12ms/step - loss: 12.0032 - val_loss: 18.8765\n",
      "Epoch 91/100\n",
      "29/29 - 0s - 8ms/step - loss: 11.7475 - val_loss: 18.6255\n",
      "Epoch 92/100\n",
      "29/29 - 0s - 8ms/step - loss: 11.1814 - val_loss: 14.6112\n",
      "Epoch 93/100\n",
      "29/29 - 0s - 9ms/step - loss: 11.8870 - val_loss: 14.4722\n",
      "Epoch 94/100\n",
      "29/29 - 0s - 8ms/step - loss: 13.6598 - val_loss: 19.2974\n",
      "Epoch 95/100\n",
      "29/29 - 0s - 8ms/step - loss: 13.0602 - val_loss: 15.2122\n",
      "Epoch 96/100\n",
      "29/29 - 0s - 8ms/step - loss: 11.6819 - val_loss: 15.0551\n",
      "Epoch 97/100\n",
      "29/29 - 0s - 8ms/step - loss: 11.0235 - val_loss: 16.6797\n",
      "Epoch 98/100\n",
      "29/29 - 0s - 8ms/step - loss: 10.9167 - val_loss: 17.4317\n",
      "Epoch 99/100\n",
      "29/29 - 0s - 8ms/step - loss: 11.4207 - val_loss: 15.7614\n",
      "Epoch 100/100\n",
      "29/29 - 0s - 8ms/step - loss: 10.9110 - val_loss: 16.6491\n"
     ]
    },
    {
     "data": {
      "text/plain": [
       "<keras.src.callbacks.history.History at 0x7270dc512ae0>"
      ]
     },
     "execution_count": 19,
     "metadata": {},
     "output_type": "execute_result"
    }
   ],
   "source": [
    "# fit the model2\n",
    "model_2.fit(predictors_norm, target, validation_split=0.1, epochs=100, verbose=2)"
   ]
  },
  {
   "cell_type": "markdown",
   "metadata": {},
   "source": [
    "Based on the results, we notice that:\n",
    "\n",
    "- Adding more hidden layers to the model increases its capacity to learn and represent complex relationships within the data. This allows the model to better identify, as a result, the model becomes more effective at fitting the training data and potentially improving its predictions.\n",
    "- By reducing the proportion of data set aside for validation and using a larger portion for training, the model has access to more examples to learn from. This additional training data helps the model improve its understanding of the underlying trends, which can lead to better overall performance.  \n"
   ]
  },
  {
   "cell_type": "markdown",
   "metadata": {},
   "source": [
    "### Thank you for completing this lab!\n",
    "\n",
    "This notebook was created by [Alex Aklson](https://www.linkedin.com/in/aklson/). I hope you found this lab interesting and educational. Feel free to contact me if you have any questions!\n"
   ]
  },
  {
   "cell_type": "markdown",
   "metadata": {},
   "source": [
    "<!--\n",
    "## Change Log\n",
    "\n",
    "|  Date (YYYY-MM-DD) |  Version | Changed By  |  Change Description |\n",
    "|---|---|---|---|\n",
    "| 2024-11-20  | 3.0  | Aman  |  Updated the library versions to current |\n",
    "| 2020-09-21  | 2.0  | Srishti  |  Migrated Lab to Markdown and added to course repo in GitLab |\n",
    "\n",
    "\n",
    "\n",
    "<hr>\n",
    "\n",
    "## <h3 align=\"center\"> © IBM Corporation. All rights reserved. <h3/>\n"
   ]
  },
  {
   "cell_type": "markdown",
   "metadata": {},
   "source": [
    "## <h3 align=\"center\"> &#169; IBM Corporation. All rights reserved. <h3/>\n",
    "\n"
   ]
  }
 ],
 "metadata": {
  "kernelspec": {
   "display_name": "Python 3 (ipykernel)",
   "language": "python",
   "name": "python3"
  },
  "language_info": {
   "codemirror_mode": {
    "name": "ipython",
    "version": 3
   },
   "file_extension": ".py",
   "mimetype": "text/x-python",
   "name": "python",
   "nbconvert_exporter": "python",
   "pygments_lexer": "ipython3",
   "version": "3.12.8"
  },
  "prev_pub_hash": "1318243f5c57a871ada11a63a887b187b71b9e224c59cc45cb9fac7ca19844fc"
 },
 "nbformat": 4,
 "nbformat_minor": 4
}
